{
  "nbformat": 4,
  "nbformat_minor": 0,
  "metadata": {
    "colab": {
      "provenance": []
    },
    "kernelspec": {
      "name": "python3",
      "display_name": "Python 3"
    },
    "language_info": {
      "name": "python"
    }
  },
  "cells": [
    {
      "cell_type": "markdown",
      "source": [
        "#Creating 0D Tensor or array\n"
      ],
      "metadata": {
        "id": "ZdmmIIekvyvu"
      }
    },
    {
      "cell_type": "code",
      "execution_count": null,
      "metadata": {
        "colab": {
          "base_uri": "https://localhost:8080/"
        },
        "id": "lM3FTjx3vZF6",
        "outputId": "64f80088-54e8-4e28-fd94-745ec969085c"
      },
      "outputs": [
        {
          "output_type": "execute_result",
          "data": {
            "text/plain": [
              "array(4)"
            ]
          },
          "metadata": {},
          "execution_count": 1
        }
      ],
      "source": [
        "import numpy as np\n",
        "a = np.array(4)\n",
        "a\n",
        "a.ndim  #checking the dimension of tensor"
      ]
    },
    {
      "cell_type": "markdown",
      "source": [
        "#Creating 1D Tensor"
      ],
      "metadata": {
        "id": "IVl_OeZnwAy6"
      }
    },
    {
      "cell_type": "code",
      "source": [
        "import numpy as np\n",
        "arr = np.array([1,2,3,4])\n",
        "print(arr)\n",
        "print(\"dimension -> \",arr.ndim)"
      ],
      "metadata": {
        "colab": {
          "base_uri": "https://localhost:8080/"
        },
        "id": "8tp1xKIWwED2",
        "outputId": "e529601d-a142-4845-bd84-9d12972db984"
      },
      "execution_count": null,
      "outputs": [
        {
          "output_type": "stream",
          "name": "stdout",
          "text": [
            "[1 2 3 4]\n",
            "dimention ->  1\n"
          ]
        }
      ]
    },
    {
      "cell_type": "markdown",
      "source": [
        "#Creating 2D Tensor | Matrices"
      ],
      "metadata": {
        "id": "4jHF1wjywxdG"
      }
    },
    {
      "cell_type": "code",
      "source": [
        "import numpy as np\n",
        "mat = np.array([[1,2,3],[4,5,6],[7,8,9]])\n",
        "print(mat)\n",
        "print(\"Dimension -> \",mat.ndim)"
      ],
      "metadata": {
        "colab": {
          "base_uri": "https://localhost:8080/"
        },
        "id": "IJYRdOu-w4mF",
        "outputId": "8d92c72f-ccd9-4b45-a8d7-3f46bacef4aa"
      },
      "execution_count": null,
      "outputs": [
        {
          "output_type": "stream",
          "name": "stdout",
          "text": [
            "[[1 2 3]\n",
            " [4 5 6]\n",
            " [7 8 9]]\n",
            "Dimension ->  2\n"
          ]
        }
      ]
    },
    {
      "cell_type": "code",
      "source": [],
      "metadata": {
        "colab": {
          "base_uri": "https://localhost:8080/"
        },
        "id": "i-prCeKkvsIR",
        "outputId": "6965ec4f-cf83-4ffd-da02-363a6d795cc0"
      },
      "execution_count": null,
      "outputs": [
        {
          "output_type": "execute_result",
          "data": {
            "text/plain": [
              "0"
            ]
          },
          "metadata": {},
          "execution_count": 2
        }
      ]
    }
  ]
}